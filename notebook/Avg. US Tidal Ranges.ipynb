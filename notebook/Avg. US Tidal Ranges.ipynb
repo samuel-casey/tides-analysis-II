{
 "cells": [
  {
   "cell_type": "markdown",
   "metadata": {},
   "source": [
    "# Tidal data exploration\n",
    "\n",
    "## Analysis of data from NOAA tidal stations\n",
    "\n",
    "### Guiding Questions:\n",
    "    \n",
    "**How many places in the US have large enough tidal ranges to harvest tidal energy economically?**\n",
    "  - *large enough = avg. tidal range > 10 ft according to [U.S. Energy Information Administration](https://www.eia.gov/energyexplained/hydropower/tidal-power.php#:~:text=Today%2C%20there%20are%20tidal%20energy,of%20at%20least%2010%20feet.)\n",
    "  \n",
    "**How many places in the US have a tidal range >= 18ft**\n",
    "  - *Two of the largest and most economical tidal power projects in the world, [Sihwa tidal power station in South Korea](https://en.wikipedia.org/wiki/Sihwa_Lake_Tidal_Power_Station#:~:text=This%20slightly%20unconventional%20and%20relatively,7.8%20m%20(26%20ft).) and [La Rance tidal barrage in France](https://tethys.pnnl.gov/project-sites/la-rance-tidal-barrage#:~:text=Location-,The%20facility%20is%20located%20on%20the%20estuary%20of%20the%20Rance,of%209%2C600m3%2Fs.) have average tidal ranges >= 18ft\n",
    "\n",
    "### Objectives:\n",
    "- **determine average tidal range for each station that has tidal data**\n",
    "- **identify stations with an avg. tidal range >= 10ft, and an avg. tidal range >= 18ft**\n",
    "- **create a new CSV file with stations and their IDs for further exploration**\n"
   ]
  },
  {
   "cell_type": "code",
   "execution_count": 77,
   "metadata": {
    "scrolled": true
   },
   "outputs": [
    {
     "name": "stdout",
     "output_type": "stream",
     "text": [
      "Tidal stations in U.S. with avg. tidal range >= 10f < 18ft: 70\n",
      "Tidal stations in U.S. with avg. tidal range >= 18ft: 8\n"
     ]
    }
   ],
   "source": [
    "import csv\n",
    "import pandas as pd\n",
    "import numpy as np\n",
    "import matplotlib.pyplot as plt\n",
    "\n",
    "# import all station ids from a csv that contains all ids in a single column \n",
    "all_stations_2d = pd.read_csv('../csvs/all_station_ids.csv').values.tolist()\n",
    "all_stations = [i[0] for i in all_stations_2d]\n",
    "\n",
    "# create empty lists for highest highs, lowest lows, and tidal ranges of each station\n",
    "avg_t_ranges = []\n",
    "cleansed_station_dicts = []\n",
    "gte_10ft_lt_18ft_dicts = []\n",
    "gte_18ft_dicts = []\n",
    "path = \"../csvs/tide_predictions/\"\n",
    "\n",
    "# counter variable and list to hold # of stations that should be included on x-axis for plots\n",
    "ex = 0\n",
    "exes = []\n",
    "\n",
    "# find average high and low for each station to calc tidal range\n",
    "for station in all_stations:\n",
    "    index = all_stations.index(station)\n",
    "    file_name = path + str(all_stations[index]) + \"_2020.csv\"\n",
    "    df = pd.read_csv(file_name)\n",
    "    \n",
    "    if df.water_level.empty == False:\n",
    "        all_highs = df.loc[df['type'] == 'H'][\"water_level\"].tolist()\n",
    "        all_lows = df.loc[df['type'] == 'L'][\"water_level\"].tolist()\n",
    "        avg_high, avg_low = np.mean(all_highs), np.mean(all_lows)\n",
    "        avg_tidal_range = abs(avg_high - avg_low).round(1)\n",
    "        station_dict = {'station_id': all_stations[index], 'avg_tidal_range': avg_tidal_range, 'range_gte_10ft': avg_tidal_range >= 10.0, 'range_gte_18ft': avg_tidal_range >= 18.0}\n",
    "        \n",
    "        if avg_tidal_range >= 10.0:\n",
    "            cleansed_station_dicts.append(station_dict)\n",
    "            if avg_tidal_range < 18.0:\n",
    "                gte_10ft_lt_18ft_dicts.append(station_dict)\n",
    "            if avg_tidal_range >= 18.0:\n",
    "                gte_18ft_dicts.append(station_dict)\n",
    "\n",
    "print(f\"Tidal stations in U.S. with avg. tidal range >= 10f < 18ft: {len(gte_10ft_lt_18ft_dicts)}\")\n",
    "print(f\"Tidal stations in U.S. with avg. tidal range >= 18ft: {len(gte_18ft_dicts)}\")\n"
   ]
  },
  {
   "cell_type": "code",
   "execution_count": 86,
   "metadata": {},
   "outputs": [],
   "source": [
    "cleansed_stations_df = pd.DataFrame(cleansed_station_dicts)\n",
    "\n",
    "csvs_path = '../csvs/'\n",
    "\n",
    "cleansed_stations_df.to_csv(csvs_path+'stations_with_avg_tidal_range_gte_10ft.csv',index=False)"
   ]
  }
 ],
 "metadata": {
  "kernelspec": {
   "display_name": "Python 3",
   "language": "python",
   "name": "python3"
  },
  "language_info": {
   "codemirror_mode": {
    "name": "ipython",
    "version": 3
   },
   "file_extension": ".py",
   "mimetype": "text/x-python",
   "name": "python",
   "nbconvert_exporter": "python",
   "pygments_lexer": "ipython3",
   "version": "3.8.3"
  }
 },
 "nbformat": 4,
 "nbformat_minor": 4
}
