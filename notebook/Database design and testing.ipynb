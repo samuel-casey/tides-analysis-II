{
 "cells": [
  {
   "cell_type": "markdown",
   "metadata": {},
   "source": [
    "# this file is for experimenting with data from the CO-OPS API URL Builder and creating some sample visualizations for my personal site -- the sample visualizations will exists as the \"preview\" for my tides vis project, and utilize voila"
   ]
  },
  {
   "cell_type": "code",
   "execution_count": 49,
   "metadata": {},
   "outputs": [
    {
     "data": {
      "text/plain": [
       "'C:\\\\CA_Premium\\\\tides_vis\\\\csvs'"
      ]
     },
     "execution_count": 49,
     "metadata": {},
     "output_type": "execute_result"
    }
   ],
   "source": [
    "pwd"
   ]
  },
  {
   "cell_type": "markdown",
   "metadata": {},
   "source": [
    "- final output of this notebook will be a plot showing the range of water levels for all valid stations for a certain time period"
   ]
  },
  {
   "cell_type": "code",
   "execution_count": 2,
   "metadata": {},
   "outputs": [],
   "source": [
    "import requests\n",
    "import pandas as pd\n",
    "import numpy as np\n",
    "import matplotlib.pyplot as plt"
   ]
  },
  {
   "cell_type": "markdown",
   "metadata": {},
   "source": [
    "**plt.plot(x values array, y values array)**\n",
    "- if only one set of values given, matplot assumes its a y-array and generates x values starting from 0"
   ]
  },
  {
   "cell_type": "markdown",
   "metadata": {},
   "source": [
    "### contents of typical csv file"
   ]
  },
  {
   "cell_type": "code",
   "execution_count": 62,
   "metadata": {},
   "outputs": [
    {
     "name": "stdout",
     "output_type": "stream",
     "text": [
      "          Date_Time       Day      Hour  Water_Level  Sigma  \\\n",
      "0    04/17/20 00:00  04/17/20  00:00:00       24.238  0.020   \n",
      "1    04/17/20 00:06  04/17/20  00:06:00        0.000  0.016   \n",
      "2    04/17/20 00:12  04/17/20  00:12:00       24.048  0.016   \n",
      "3    04/17/20 00:18  04/17/20  00:18:00       11.982  0.013   \n",
      "4    04/17/20 00:24  04/17/20  00:24:00       11.932  0.016   \n",
      "..              ...       ...       ...          ...    ...   \n",
      "198  04/17/20 19:48  04/17/20  19:48:00        0.000  0.036   \n",
      "199  04/17/20 19:54  04/17/20  19:54:00       10.742  0.056   \n",
      "200  04/17/20 20:00  04/17/20  20:00:00       11.056  0.039   \n",
      "201  04/17/20 20:06  04/17/20  20:06:00        5.640  0.039   \n",
      "202  04/17/20 20:12  04/17/20  20:12:00       11.568  0.056   \n",
      "\n",
      "     O_or_I_(for_verified)  F  R  L Quality  \n",
      "0                        0  0  0  0       p  \n",
      "1                        0  0  0  0       p  \n",
      "2                        0  0  0  0       p  \n",
      "3                        0  0  0  0       p  \n",
      "4                        1  0  0  0       p  \n",
      "..                     ... .. .. ..     ...  \n",
      "198                      0  0  0  0       p  \n",
      "199                      0  0  0  0       p  \n",
      "200                      1  0  0  0       p  \n",
      "201                      0  0  0  0       p  \n",
      "202                      0  0  0  0       p  \n",
      "\n",
      "[203 rows x 10 columns]\n"
     ]
    }
   ],
   "source": [
    "csvFile = pd.read_csv(\"CO-OPS__8443970__wl.csv\")\n",
    "csvFile2 = pd.read_csv(\"CO-OPS__8443970__wl2.csv\")\n",
    "\n",
    "print(csvFile2)"
   ]
  },
  {
   "cell_type": "markdown",
   "metadata": {},
   "source": [
    "**Read contents from 2 files into lists so that we can plot water levels and hours from multiple csvs on the same chart, using hours as the Y-axis**"
   ]
  },
  {
   "cell_type": "code",
   "execution_count": 63,
   "metadata": {},
   "outputs": [],
   "source": [
    "csvFileHours = []\n",
    "csv1Level = []\n",
    "csv2Level = []\n",
    "\n",
    "for index, rows in csvFile.iterrows():\n",
    "    csvFileHours.append(rows.Hour)\n",
    " \n",
    "for index, rows in csvFile.iterrows():\n",
    "    csv1Level.append(rows.Water_Level)\n",
    "    \n",
    "for index, rows in csvFile2.iterrows():\n",
    "    csv2Level.append(rows.Water_Level)"
   ]
  },
  {
   "cell_type": "code",
   "execution_count": 64,
   "metadata": {
    "scrolled": false
   },
   "outputs": [
    {
     "data": {
      "image/png": "[encoded data removed]",
      "text/plain": [
       "<Figure size 432x288 with 1 Axes>"
      ]
     },
     "metadata": {
      "needs_background": "light"
     },
     "output_type": "display_data"
    },
    {
     "name": "stdout",
     "output_type": "stream",
     "text": [
      "Max water level: 12.877\n",
      "Min water level: 4.409\n",
      "Range of water levels on 04/17/20: 8.468\n",
      "Max level 2: 25.701999999999998\n"
     ]
    }
   ],
   "source": [
    "plt.plot(csvFileHours, csv1Level)\n",
    "plt.plot(csvFileHours, csv2Level)\n",
    "plt.axis([0, 21, 0, 26])\n",
    "day = csvFile[\"Day\"][0]\n",
    "#plt.title(f\"{day} water level from 00:00 to 20:12\")\n",
    "plt.show()\n",
    "\n",
    "max_level = csvFile[\"Water_Level\"].max()\n",
    "max_level2 = csvFile2[\"Water_Level\"].max()\n",
    "min_level = csvFile[\"Water_Level\"].min()\n",
    "day_range = max_level - min_level\n",
    "print(f\"Max water level: {max_level}\")\n",
    "print(f\"Min water level: {min_level}\")\n",
    "print(f\"Range of water levels on {day}: {day_range}\")\n",
    "print(f\"Max level 2: {max_level2}\")"
   ]
  },
  {
   "cell_type": "markdown",
   "metadata": {},
   "source": [
    "**^^the final output for my analysis will look like the above graph**"
   ]
  },
  {
   "cell_type": "markdown",
   "metadata": {},
   "source": [
    "to do:\n",
    "- decide on the what the desired data and timeframe is\n",
    "- create a list of station names that have the desired data for my analysis\n",
    "- write a script to get all relevant csv files into 'csvs' folder"
   ]
  },
  {
   "cell_type": "markdown",
   "metadata": {},
   "source": [
    "date time prediction type"
   ]
  },
  {
   "cell_type": "markdown",
   "metadata": {},
   "source": [
    "long date number H/L"
   ]
  },
  {
   "cell_type": "code",
   "execution_count": null,
   "metadata": {},
   "outputs": [],
   "source": []
  }
 ],
 "metadata": {
  "kernelspec": {
   "display_name": "Python 3",
   "language": "python",
   "name": "python3"
  },
  "language_info": {
   "codemirror_mode": {
    "name": "ipython",
    "version": 3
   },
   "file_extension": ".py",
   "mimetype": "text/x-python",
   "name": "python",
   "nbconvert_exporter": "python",
   "pygments_lexer": "ipython3",
   "version": "3.7.6"
  }
 },
 "nbformat": 4,
 "nbformat_minor": 4
}
